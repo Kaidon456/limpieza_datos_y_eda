{
 "cells": [
  {
   "cell_type": "code",
   "execution_count": 1,
   "id": "cfcbdb6d-1ba0-4e3a-9622-de781f402f02",
   "metadata": {},
   "outputs": [
    {
     "name": "stdout",
     "output_type": "stream",
     "text": [
      "<class 'pandas.core.frame.DataFrame'>\n",
      "RangeIndex: 1000 entries, 0 to 999\n",
      "Data columns (total 12 columns):\n",
      " #   Column              Non-Null Count  Dtype  \n",
      "---  ------              --------------  -----  \n",
      " 0   Rank                1000 non-null   int64  \n",
      " 1   Title               1000 non-null   object \n",
      " 2   Genre               1000 non-null   object \n",
      " 3   Description         1000 non-null   object \n",
      " 4   Director            1000 non-null   object \n",
      " 5   Actors              1000 non-null   object \n",
      " 6   Year                1000 non-null   int64  \n",
      " 7   Runtime (Minutes)   1000 non-null   int64  \n",
      " 8   Rating              1000 non-null   float64\n",
      " 9   Votes               1000 non-null   int64  \n",
      " 10  Revenue (Millions)  872 non-null    float64\n",
      " 11  Metascore           936 non-null    float64\n",
      "dtypes: float64(3), int64(4), object(5)\n",
      "memory usage: 93.9+ KB\n",
      "<class 'pandas.core.frame.DataFrame'>\n",
      "RangeIndex: 1000 entries, 0 to 999\n",
      "Data columns (total 12 columns):\n",
      " #   Column            Non-Null Count  Dtype  \n",
      "---  ------            --------------  -----  \n",
      " 0   Rank              1000 non-null   int64  \n",
      " 1   Title             1000 non-null   object \n",
      " 2   Genre             1000 non-null   object \n",
      " 3   Description       1000 non-null   object \n",
      " 4   Director          1000 non-null   object \n",
      " 5   Actors            1000 non-null   object \n",
      " 6   Year              1000 non-null   int64  \n",
      " 7   Runtime_Minutes   1000 non-null   int64  \n",
      " 8   Rating            1000 non-null   float64\n",
      " 9   Votes             1000 non-null   int64  \n",
      " 10  Revenue_Millions  872 non-null    float64\n",
      " 11  Metascore         936 non-null    float64\n",
      "dtypes: float64(3), int64(4), object(5)\n",
      "memory usage: 93.9+ KB\n"
     ]
    },
    {
     "data": {
      "text/plain": [
       "np.int64(64)"
      ]
     },
     "execution_count": 1,
     "metadata": {},
     "output_type": "execute_result"
    }
   ],
   "source": [
    "import pandas as pd\n",
    "import numpy as np\n",
    "import matplotlib.pyplot as plt\n",
    "df = pd.read_csv('./data/imdb.csv')\n",
    "df.head()\n",
    "df.tail()\n",
    "df.head(3)\n",
    "df.tail(3)\n",
    "df.info()\n",
    "df.columns\n",
    "df.Rank.head()\n",
    "df.rename(columns={\n",
    "    \"Runtime (Minutes)\": \"Runtime_Minutes\",\n",
    "    \"Revenue (Millions)\": \"Revenue_Millions\"}, inplace=True)\n",
    "df.Runtime_Minutes.mean()\n",
    "df.info()\n",
    "df.isna().sum()\n",
    "df.Metascore.isna().sum()"
   ]
  },
  {
   "cell_type": "code",
   "execution_count": null,
   "id": "a2289bb6-a894-4eb6-a3ed-5b86ee6ab990",
   "metadata": {},
   "outputs": [],
   "source": [
    "df.dropna(inplace=True)\n",
    "df.info()\n",
    "df.describe()\n",
    "plt.hist(df['Metascore'], bins=10)"
   ]
  }
 ],
 "metadata": {
  "kernelspec": {
   "display_name": "Python 3 (ipykernel)",
   "language": "python",
   "name": "python3"
  },
  "language_info": {
   "codemirror_mode": {
    "name": "ipython",
    "version": 3
   },
   "file_extension": ".py",
   "mimetype": "text/x-python",
   "name": "python",
   "nbconvert_exporter": "python",
   "pygments_lexer": "ipython3",
   "version": "3.12.3"
  }
 },
 "nbformat": 4,
 "nbformat_minor": 5
}
